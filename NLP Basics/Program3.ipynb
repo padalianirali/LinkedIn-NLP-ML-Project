{
 "cells": [
  {
   "cell_type": "code",
   "execution_count": 1,
   "metadata": {},
   "outputs": [],
   "source": [
    "#Program 3 - Using Regular Expressions on data"
   ]
  },
  {
   "cell_type": "code",
   "execution_count": 2,
   "metadata": {},
   "outputs": [],
   "source": [
    "#importing Regular Expression package\n",
    "import re"
   ]
  },
  {
   "cell_type": "code",
   "execution_count": 3,
   "metadata": {},
   "outputs": [
    {
     "data": {
      "text/plain": [
       "['My', 'name', 'is', 'John', 'and', 'I', 'like', 'playing', 'Chess']"
      ]
     },
     "execution_count": 3,
     "metadata": {},
     "output_type": "execute_result"
    }
   ],
   "source": [
    "#splitting a sentence based on single white space using \\s\n",
    "sent1 = \"My name is John and I like playing Chess\"\n",
    "re.split(\"\\s\",sent1)"
   ]
  },
  {
   "cell_type": "code",
   "execution_count": 4,
   "metadata": {},
   "outputs": [
    {
     "data": {
      "text/plain": [
       "['My',\n",
       " 'name',\n",
       " 'is',\n",
       " 'Patric',\n",
       " 'and',\n",
       " 'I',\n",
       " 'am',\n",
       " 'the',\n",
       " 'captain',\n",
       " 'of',\n",
       " 'Campus',\n",
       " 'Football',\n",
       " 'Team']"
      ]
     },
     "execution_count": 4,
     "metadata": {},
     "output_type": "execute_result"
    }
   ],
   "source": [
    "#splitting a sentence based on multiple white spaces using \\s+\n",
    "sent2 = \"My  name  is    Patric and I am   the captain of  Campus Football        Team\"\n",
    "re.split(\"\\s+\",sent2)"
   ]
  },
  {
   "cell_type": "code",
   "execution_count": 5,
   "metadata": {},
   "outputs": [
    {
     "data": {
      "text/plain": [
       "['I', 'am', 'Rosy', 'and', 'I', 'like', 'to', 'play', 'Cello']"
      ]
     },
     "execution_count": 5,
     "metadata": {},
     "output_type": "execute_result"
    }
   ],
   "source": [
    "#splitting a sentence based on single non-word character using \\W\n",
    "sent3 = \"I-am-Rosy*and'I>like>to?play<Cello\"\n",
    "re.split(\"\\W\",sent3)"
   ]
  },
  {
   "cell_type": "code",
   "execution_count": 6,
   "metadata": {},
   "outputs": [
    {
     "data": {
      "text/plain": [
       "['I', 'am', 'Chris', 'and', 'I', 'love', 'sports']"
      ]
     },
     "execution_count": 6,
     "metadata": {},
     "output_type": "execute_result"
    }
   ],
   "source": [
    "#splitting a sentence based on multiple non-word character using \\W+\n",
    "sent4 = \"I-am->>>Chris*and'I>love>sports\"\n",
    "re.split(\"\\W+\",sent4)"
   ]
  },
  {
   "cell_type": "code",
   "execution_count": 7,
   "metadata": {},
   "outputs": [
    {
     "data": {
      "text/plain": [
       "['M',\n",
       " 'y',\n",
       " 'n',\n",
       " 'a',\n",
       " 'm',\n",
       " 'e',\n",
       " 'i',\n",
       " 's',\n",
       " 'R',\n",
       " 'i',\n",
       " 't',\n",
       " 'a',\n",
       " 'a',\n",
       " 'n',\n",
       " 'd',\n",
       " 'I',\n",
       " 'l',\n",
       " 'o',\n",
       " 'v',\n",
       " 'e',\n",
       " 'r',\n",
       " 'e',\n",
       " 'a',\n",
       " 'd',\n",
       " 'i',\n",
       " 'n',\n",
       " 'g',\n",
       " 'n',\n",
       " 'o',\n",
       " 'v',\n",
       " 'e',\n",
       " 'l',\n",
       " 's']"
      ]
     },
     "execution_count": 7,
     "metadata": {},
     "output_type": "execute_result"
    }
   ],
   "source": [
    "#finding all non-white space characters in a sentence using \\S\n",
    "sent5 = \"My name is Rita and I love reading novels\"\n",
    "re.findall(\"\\S\",sent5)"
   ]
  },
  {
   "cell_type": "code",
   "execution_count": 8,
   "metadata": {},
   "outputs": [
    {
     "data": {
      "text/plain": [
       "['I', 'am', 'Rohan', 'and', 'I', 'am', 'a', 'Basketball', 'player']"
      ]
     },
     "execution_count": 8,
     "metadata": {},
     "output_type": "execute_result"
    }
   ],
   "source": [
    "#finding all non-white space words in a sentence using \\S+\n",
    "sent5 = \"I am    Rohan  and I         am a Basketball player       \"\n",
    "re.findall(\"\\S+\",sent5)"
   ]
  },
  {
   "cell_type": "code",
   "execution_count": 9,
   "metadata": {},
   "outputs": [
    {
     "data": {
      "text/plain": [
       "['I',\n",
       " 'a',\n",
       " 'm',\n",
       " 'G',\n",
       " 'r',\n",
       " 'e',\n",
       " 't',\n",
       " 'a',\n",
       " 'a',\n",
       " 'n',\n",
       " 'd',\n",
       " 'I',\n",
       " 'l',\n",
       " 'o',\n",
       " 'v',\n",
       " 'e',\n",
       " 'c',\n",
       " 'o',\n",
       " 'o',\n",
       " 'k',\n",
       " 'i',\n",
       " 'n',\n",
       " 'g']"
      ]
     },
     "execution_count": 9,
     "metadata": {},
     "output_type": "execute_result"
    }
   ],
   "source": [
    "#finding all word characters in a sentence with special characters using \\w\n",
    "sent6 = \"I-am????-Greta*and'?<''':I>>>>>love<<<<cooking!!!\"\n",
    "re.findall('\\w',sent6)"
   ]
  },
  {
   "cell_type": "code",
   "execution_count": 10,
   "metadata": {},
   "outputs": [
    {
     "data": {
      "text/plain": [
       "['I', 'am', 'Robert', 'and', 'I', 'like', 'to', 'play', 'video', 'games']"
      ]
     },
     "execution_count": 10,
     "metadata": {},
     "output_type": "execute_result"
    }
   ],
   "source": [
    "#finding all word characters in a sentence with special characters i.e. \\w+\n",
    "sent7 = \"I-am????-Robert*and'?<''':I>like>to?<?<<<play<video games\"\n",
    "re.findall('\\w+',sent7)"
   ]
  },
  {
   "cell_type": "code",
   "execution_count": 11,
   "metadata": {},
   "outputs": [
    {
     "name": "stdout",
     "output_type": "stream",
     "text": [
      "['a', 'm', 'y', 'e', 'a', 'r', 's', 'o', 'l', 'd', 'a', 'n', 'd', 'a', 'm', 'l', 'e', 'a', 'r', 'n', 'i', 'n', 'g']\n",
      "['am', 'years', 'old', 'and', 'am', 'learning']\n",
      "['I', 'I', 'P', 'Y', 'T', 'H', 'O', 'N']\n",
      "['I', 'I', 'PYTHON']\n",
      "['am', '26', 'years', 'old', 'and', 'am', 'learning', '3']\n",
      "['I', '26', 'I', 'PYTHON3']\n",
      "['PYTHON3']\n"
     ]
    }
   ],
   "source": [
    "#finding different regex patterns for numbers and characters\n",
    "sent8 = \"I am 26 years old and I am learning PYTHON3\"\n",
    "print(re.findall('[a-z]',sent8))\n",
    "print(re.findall('[a-z]+',sent8))\n",
    "print(re.findall('[A-Z]',sent8))\n",
    "print(re.findall('[A-Z]+',sent8))\n",
    "print(re.findall('[a-z0-9]+',sent8))\n",
    "print(re.findall('[A-Z0-9]+',sent8))\n",
    "print(re.findall('[A-Z]+[0-9]+',sent8))"
   ]
  },
  {
   "cell_type": "code",
   "execution_count": 12,
   "metadata": {},
   "outputs": [
    {
     "name": "stdout",
     "output_type": "stream",
     "text": [
      "I am learning python2\n",
      "I am learning python3\n"
     ]
    }
   ],
   "source": [
    "#finding and replacing strings\n",
    "sent9 = \"I am learning python2\"\n",
    "print(sent9)\n",
    "print(re.sub('[a-z]+[0-9]+','python3',sent9))"
   ]
  },
  {
   "cell_type": "code",
   "execution_count": null,
   "metadata": {},
   "outputs": [],
   "source": []
  }
 ],
 "metadata": {
  "kernelspec": {
   "display_name": "Python 3",
   "language": "python",
   "name": "python3"
  },
  "language_info": {
   "codemirror_mode": {
    "name": "ipython",
    "version": 3
   },
   "file_extension": ".py",
   "mimetype": "text/x-python",
   "name": "python",
   "nbconvert_exporter": "python",
   "pygments_lexer": "ipython3",
   "version": "3.7.3"
  }
 },
 "nbformat": 4,
 "nbformat_minor": 2
}
